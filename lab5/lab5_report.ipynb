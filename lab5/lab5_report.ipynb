{
 "cells": [
  {
   "cell_type": "markdown",
   "metadata": {},
   "source": [
    "# Лабораторная работа №5\n",
    "## Выполнил Буканов Никита ПМ-21М\n",
    "## Вариант 2"
   ]
  },
  {
   "attachments": {
    "image.png": {
     "image/png": "[encoded data removed]"
    }
   },
   "cell_type": "markdown",
   "metadata": {},
   "source": [
    "![image.png](attachment:image.png)"
   ]
  },
  {
   "cell_type": "markdown",
   "metadata": {},
   "source": [
    "# Битоническая сортировка"
   ]
  },
  {
   "cell_type": "markdown",
   "metadata": {},
   "source": [
    "```c++\n",
    "#include <cstdio>\n",
    "#include <cstdlib>\n",
    "#include <iostream>\n",
    "#include <cassert>\n",
    "constexpr size_t BLOCK_SIZE = 1024; // Размер блока.\n",
    "constexpr size_t SIZE = 2048;\n",
    "\n",
    "// Отдельный компаратор  сравнивает пару ключей\n",
    "// и производит обмен соответствующих элементов и\n",
    "// ключей для обеспечения заданного порядка.\n",
    "__device__ void Comparator (uint& keyA, uint& valA, uint& keyB, uint& valB, uint dir) {\n",
    "  uint t;\n",
    "  // Поменять местами (keyA, valA) и (keyB, valB)\n",
    "  if ( (keyA > keyB) == dir ) {\n",
    "    t = keyA;\n",
    "    keyA = keyB;\n",
    "    keyB = t;\n",
    "    t = valA;\n",
    "    valA = valB;\n",
    "    valB = t;\n",
    "  }\n",
    "}\n",
    "\n",
    "__global__ void bitonicSortShared (uint* dstKey,\n",
    "                                   uint* dstVal,\n",
    "                                   uint* srcKey,\n",
    "                                   uint* srcVal,\n",
    "                                   uint arrayLength,\n",
    "                                   uint dir) {\n",
    "  __shared__ uint sk [BLOCK_SIZE * 2];\n",
    "  __shared__ uint sv [BLOCK_SIZE * 2];\n",
    "  \n",
    "  int index = blockIdx.x * BLOCK_SIZE * 2 + threadIdx.x;\n",
    "  sk [threadIdx.x] = srcKey[index];\n",
    "  sv [threadIdx.x] = srcVal[index];\n",
    "  sk [threadIdx.x + BLOCK_SIZE] = srcKey [index + BLOCK_SIZE];\n",
    "  sv [threadIdx.x + BLOCK_SIZE] = srcVal [index + BLOCK_SIZE];\n",
    "  \n",
    "  assert(threadIdx.x + BLOCK_SIZE < SIZE && index + BLOCK_SIZE < SIZE);\n",
    "\n",
    "  for (uint size = 2; size < arrayLength; size <<= 1u )\n",
    "  {\n",
    "    // Битоническое слияние\n",
    "    uint ddd = dir ^ ((threadIdx.x & (size / 2)) != 0);\n",
    "    for (uint stride = size >> 1u; stride > 0; stride >>= 1u)\n",
    "    {\n",
    "      __syncthreads ();\n",
    "      uint pos = 2 * threadIdx.x - (threadIdx.x & (stride - 1));\n",
    "      assert(pos + stride < 2 * BLOCK_SIZE);\n",
    "      Comparator( sk[pos], sv[pos], sk[pos+stride], sv[pos+stride], ddd);\n",
    "    }\n",
    "    __syncthreads();\n",
    "  }\n",
    "\n",
    "  for (uint stride = arrayLength >> 1u; stride > 0; stride >>= 1u)\n",
    "  {\n",
    "    __syncthreads ();\n",
    "    uint pos = 2 * threadIdx.x - (threadIdx.x & (stride - 1));\n",
    "    // assert(pos + stride < 2 * BLOCK_SIZE);\n",
    "    Comparator( sk[pos], sv[pos], sk[pos + stride], sv[pos+stride], dir);\n",
    "  }\n",
    "  __syncthreads ();\n",
    "  dstKey[index] = sk[threadIdx.x] ;\n",
    "  dstVal[index] = sv[threadIdx.x] ;\n",
    "  dstKey[index + BLOCK_SIZE] = sk[threadIdx.x + BLOCK_SIZE];\n",
    "  dstVal[index + BLOCK_SIZE] = sv[threadIdx.x + BLOCK_SIZE];\n",
    "}\n",
    "\n",
    "\n",
    "__host__ int main()\n",
    "{\n",
    "  uint* key_arr = new uint[SIZE];\n",
    "  uint* value_arr = new uint[SIZE];\n",
    "\n",
    "  for (size_t i=0; i<SIZE; i++)\n",
    "  {\n",
    "    key_arr[i] = uint(rand()) % 100;\n",
    "    value_arr[i] = i;\n",
    "  }\n",
    "  \n",
    "  uint* dst_key_arr = new uint[SIZE];\n",
    "  cudaMalloc((void **)&dst_key_arr, SIZE * sizeof(uint));\n",
    "  \n",
    "  uint* dst_value_arr = new uint[SIZE];\n",
    "  cudaMalloc((void **)&dst_value_arr, SIZE * sizeof(uint));\n",
    "\n",
    "  uint* cuda_key_arr;\n",
    "  cudaMalloc((void **)&cuda_key_arr, SIZE * sizeof(uint));\n",
    "  cudaMemcpy(cuda_key_arr, key_arr, SIZE * sizeof(uint),cudaMemcpyHostToDevice);\n",
    "\n",
    "  uint* cuda_value_arr;\n",
    "  cudaMalloc((void **)&cuda_value_arr, SIZE * sizeof(uint));\n",
    "  cudaMemcpy(cuda_value_arr, value_arr, SIZE * sizeof(uint),cudaMemcpyHostToDevice);\n",
    "\n",
    "  cudaEvent_t start, stop;\n",
    "  float gpuTime = 0.0f;\n",
    "\n",
    "  cudaEventCreate (&start);\n",
    "  cudaEventCreate (&stop);\n",
    "  cudaEventRecord (start, 0);\n",
    "\n",
    "  bitonicSortShared<<<dim3(SIZE / (2 * BLOCK_SIZE)), dim3(BLOCK_SIZE)>>>(dst_key_arr,\n",
    "                                                                         dst_value_arr,\n",
    "                                                                         cuda_key_arr,\n",
    "                                                                         cuda_value_arr,\n",
    "                                                                         SIZE,\n",
    "                                                                         1);\n",
    "\n",
    "\n",
    "  cudaEventRecord(stop, 0);\n",
    "  cudaEventSynchronize(stop);\n",
    "  cudaEventElapsedTime(&gpuTime, start, stop);\n",
    "\n",
    "  cudaMemcpy(value_arr, dst_value_arr, SIZE * sizeof(uint), cudaMemcpyDeviceToHost);\n",
    "  cudaMemcpy(key_arr, dst_key_arr, SIZE * sizeof(uint), cudaMemcpyDeviceToHost);\n",
    "\n",
    "\n",
    "  printf(\"Elapsed time: %.2f\\n\", gpuTime);\n",
    "\n",
    "  for(size_t i=0; i<SIZE-1; i++)\n",
    "  {\n",
    "    if (key_arr[i] > key_arr[i+1])\n",
    "      std::cout << \"Error \" << key_arr[i] << \"> \" << key_arr[i+1] << std::endl;\n",
    "  }\n",
    "  std::cout << std::endl;\n",
    "\n",
    "  delete [] key_arr;\n",
    "  cudaFree(cuda_key_arr);\n",
    "  cudaFree(cuda_value_arr);\n",
    "  cudaFree(dst_value_arr);\n",
    "  cudaFree(dst_key_arr);\n",
    "}\n",
    "```"
   ]
  },
  {
   "cell_type": "code",
   "execution_count": 6,
   "metadata": {},
   "outputs": [
    {
     "name": "stdout",
     "output_type": "stream",
     "text": [
      "\r\n",
      "Elapsed time: 0.45\r\n",
      "\r\n"
     ]
    }
   ],
   "source": [
    "! ../cmake-build-debug/lab5"
   ]
  },
  {
   "cell_type": "markdown",
   "metadata": {},
   "source": [
    "# Поразрядная сортировка\n",
    "\n",
    "Предлагаемая к использованию библиотека cudpp, находится в заброшенном состоянии, более того её сборка на современных устройствах возножна только после даунгрейда драйверов(в открытом доступе столь старых версий уже нет). \n",
    "Вместо этого привожу поразряднуб сортировку из предлагаемой Nvidia в стандартной поставке CUDA библиотеки thrust."
   ]
  },
  {
   "cell_type": "markdown",
   "metadata": {},
   "source": [
    "```c++\n",
    "#include <cstdio>\n",
    "#include <cstdlib>\n",
    "#include <thrust/host_vector.h>\n",
    "#include <thrust/device_vector.h>\n",
    "#include <chrono>\n",
    "constexpr size_t N = 2048; // Количество элементов в массиве.\n",
    "\n",
    "int main ()\n",
    "{\n",
    "  thrust::host_vector<int> v(N, 0);\n",
    "  for(size_t i=0; i<N; i++)\n",
    "  {\n",
    "    v[i] = random() % 1000;\n",
    "  }\n",
    "  thrust::device_vector<int> cuda_v = v;\n",
    "\n",
    "  auto t1 = std::chrono::high_resolution_clock::now();\n",
    "  thrust::sort(cuda_v.begin(), cuda_v.end());\n",
    "  auto t2 = std::chrono::high_resolution_clock::now();\n",
    "  std::cout << \"Elapsed time \" << std::chrono::duration_cast<std::chrono::nanoseconds>(t2 - t1).count() <<std::endl;\n",
    "\n",
    "  thrust::host_vector<int> result = cuda_v;\n",
    "\n",
    "  for(size_t i=0; i < 100; i++)\n",
    "  {\n",
    "    std::cout << result[i] << \" \";\n",
    "  }\n",
    "\n",
    "  return 0;\n",
    "}\n",
    "```"
   ]
  },
  {
   "cell_type": "code",
   "execution_count": 8,
   "metadata": {},
   "outputs": [
    {
     "name": "stdout",
     "output_type": "stream",
     "text": [
      "Elapsed time 559100\r\n",
      "0 0 0 0 0 2 2 2 3 3 4 4 5 6 8 8 9 9 10 10 10 10 11 11 11 11 12 12 12 13 14 14 14 15 15 16 17 17 17 17 17 18 18 18 19 19 21 21 21 21 21 22 23 23 24 25 25 26 27 27 28 29 29 30 30 30 30 30 31 32 32 33 34 34 35 35 36 36 36 36 37 37 37 39 39 40 41 42 42 42 42 43 43 43 44 45 46 47 49 49 "
     ]
    }
   ],
   "source": [
    "! ../cmake-build-debug/lab5_1"
   ]
  },
  {
   "cell_type": "markdown",
   "metadata": {},
   "source": [
    "Данная сортировка работает сравнимо по скорости с написанной нами для массивов малого размера.\n",
    "Набольших массивах она должна давать преимущество. Проверить это не представляется воможным так как приведенная реализация BitonicSort ограничена размером общей памяти."
   ]
  },
  {
   "cell_type": "code",
   "execution_count": null,
   "metadata": {},
   "outputs": [],
   "source": []
  },
  {
   "cell_type": "code",
   "execution_count": null,
   "metadata": {},
   "outputs": [],
   "source": []
  },
  {
   "cell_type": "code",
   "execution_count": null,
   "metadata": {},
   "outputs": [],
   "source": []
  },
  {
   "cell_type": "code",
   "execution_count": null,
   "metadata": {},
   "outputs": [],
   "source": []
  },
  {
   "cell_type": "code",
   "execution_count": null,
   "metadata": {},
   "outputs": [],
   "source": []
  },
  {
   "cell_type": "code",
   "execution_count": null,
   "metadata": {},
   "outputs": [],
   "source": []
  },
  {
   "cell_type": "code",
   "execution_count": null,
   "metadata": {},
   "outputs": [],
   "source": []
  },
  {
   "cell_type": "code",
   "execution_count": null,
   "metadata": {},
   "outputs": [],
   "source": []
  },
  {
   "cell_type": "code",
   "execution_count": null,
   "metadata": {},
   "outputs": [],
   "source": []
  }
 ],
 "metadata": {
  "kernelspec": {
   "display_name": "Python 3",
   "language": "python",
   "name": "python3"
  },
  "language_info": {
   "codemirror_mode": {
    "name": "ipython",
    "version": 3
   },
   "file_extension": ".py",
   "mimetype": "text/x-python",
   "name": "python",
   "nbconvert_exporter": "python",
   "pygments_lexer": "ipython3",
   "version": "3.8.5"
  }
 },
 "nbformat": 4,
 "nbformat_minor": 4
}
